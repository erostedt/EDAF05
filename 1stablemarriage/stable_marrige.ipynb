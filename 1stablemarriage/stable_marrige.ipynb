{
 "cells": [
  {
   "cell_type": "code",
   "execution_count": 152,
   "metadata": {},
   "outputs": [
    {
     "name": "stdout",
     "output_type": "stream",
     "text": [
      "Men:  [['1', '1', '2'], ['2', '2', '1']]\n",
      "Women : [[0, '2', '2', '1'], [0, '1', '1', '2']]\n"
     ]
    }
   ],
   "source": [
    "#hämtar filen och läser in den som rader\n",
    "x_file = open('data/sample/1.in','r')\n",
    "lines=x_file.readlines()\n",
    "x_file.close\n",
    "lines = [line.strip() for line in lines]\n",
    "#printar filen utan första raden\n",
    "lines.pop(0)\n",
    "\n",
    "\n",
    "newlist=[line.split() for line in lines]\n",
    "\n",
    "women=[]\n",
    "for x in range(len(newlist)//2):\n",
    "    women.insert(0,newlist[0])\n",
    "    newlist.remove(newlist[0])\n",
    "\n",
    "    \n",
    "for line in women:\n",
    "    line.insert(0,0)\n",
    "men=newlist\n",
    "\n",
    "print(\"Men: \",men)\n",
    "print(\"Women :\",women)"
   ]
  },
  {
   "cell_type": "code",
   "execution_count": null,
   "metadata": {},
   "outputs": [],
   "source": []
  },
  {
   "cell_type": "code",
   "execution_count": null,
   "metadata": {},
   "outputs": [],
   "source": []
  },
  {
   "cell_type": "code",
   "execution_count": null,
   "metadata": {},
   "outputs": [],
   "source": []
  }
 ],
 "metadata": {
  "kernelspec": {
   "display_name": "Python 3",
   "language": "python",
   "name": "python3"
  },
  "language_info": {
   "codemirror_mode": {
    "name": "ipython",
    "version": 3
   },
   "file_extension": ".py",
   "mimetype": "text/x-python",
   "name": "python",
   "nbconvert_exporter": "python",
   "pygments_lexer": "ipython3",
   "version": "3.7.4"
  }
 },
 "nbformat": 4,
 "nbformat_minor": 4
}
